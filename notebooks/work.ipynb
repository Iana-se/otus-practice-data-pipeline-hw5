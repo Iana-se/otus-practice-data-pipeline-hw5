{
 "cells": [
  {
   "cell_type": "markdown",
   "metadata": {},
   "source": [
    "# Рабочий ноутбук"
   ]
  },
  {
   "cell_type": "markdown",
   "metadata": {},
   "source": [
    "Соберем все что нам нужно"
   ]
  },
  {
   "cell_type": "code",
   "execution_count": 1,
   "metadata": {},
   "outputs": [
    {
     "data": {
      "text/plain": [
       "True"
      ]
     },
     "execution_count": 1,
     "metadata": {},
     "output_type": "execute_result"
    }
   ],
   "source": [
    "import os\n",
    "from dotenv import load_dotenv\n",
    "# from pyspark.sql import SparkSession\n",
    "\n",
    "# Загрузка переменных окружения\n",
    "env_path = os.path.join(\"..\", \".env\")\n",
    "load_dotenv(env_path)\n",
    "\n",
    "# # Пути к данным\n",
    "# output_data_path = os.path.join(\"..\", \"data\", \"output_data\")\n",
    "\n",
    "# # Создание сессии Spark\n",
    "# spark = SparkSession.builder.appName(\"SimpleApp\").getOrCreate()"
   ]
  },
  {
   "cell_type": "code",
   "execution_count": 2,
   "metadata": {},
   "outputs": [
    {
     "data": {
      "text/plain": [
       "'airflow-bucket-72c02767e8f4ac72'"
      ]
     },
     "execution_count": 2,
     "metadata": {},
     "output_type": "execute_result"
    }
   ],
   "source": [
    "os.getenv(\"S3_BUCKET_NAME\")"
   ]
  },
  {
   "cell_type": "markdown",
   "metadata": {},
   "source": [
    "Скачаем данные"
   ]
  },
  {
   "cell_type": "code",
   "execution_count": 6,
   "metadata": {},
   "outputs": [
    {
     "name": "stdout",
     "output_type": "stream",
     "text": [
      "download: 's3://airflow-bucket-72c02767e8f4ac72/output_data/sum_data.parquet/_SUCCESS' -> '/Users/ypolonskaya/PyProjects/otus-practice-data-pipeline-hw5/data/output_data/sum_data.parquet/_SUCCESS' (0 bytes in 0.0 seconds, -1.00 B/s)\n",
      "download: 's3://airflow-bucket-72c02767e8f4ac72/output_data/sum_data.parquet/part-00000-9e13c06a-3385-4cc5-b5a0-1d5aaf897ff9-c000.snappy.parquet' -> '/Users/ypolonskaya/PyProjects/otus-practice-data-pipeline-hw5/data/output_data/sum_data.parquet/part-00000-9e13c06a-3385-4cc5-b5a0-1d5aaf897ff9-c000.snappy.parquet' (304 bytes in 0.0 seconds, 10.20 KB/s)\n",
      "download: 's3://airflow-bucket-72c02767e8f4ac72/output_data/sum_data.parquet/part-00001-9e13c06a-3385-4cc5-b5a0-1d5aaf897ff9-c000.snappy.parquet' -> '/Users/ypolonskaya/PyProjects/otus-practice-data-pipeline-hw5/data/output_data/sum_data.parquet/part-00001-9e13c06a-3385-4cc5-b5a0-1d5aaf897ff9-c000.snappy.parquet' (475 bytes in 0.0 seconds, 16.18 KB/s)\n",
      "Files downloaded to: /Users/ypolonskaya/PyProjects/otus-practice-data-pipeline-hw5/data/output_data\n"
     ]
    }
   ],
   "source": [
    "import os\n",
    "import subprocess\n",
    "\n",
    "bucket = os.getenv(\"S3_BUCKET_NAME\")\n",
    "output_data_path = os.path.join(os.getcwd(), \"/Users/ypolonskaya/PyProjects/otus-practice-data-pipeline-hw5/data/output_data\")  # полный путь\n",
    "\n",
    "os.makedirs(output_data_path, exist_ok=True)\n",
    "\n",
    "subprocess.run([\n",
    "    \"s3cmd\", \"get\", \"--recursive\", \"--force\",\n",
    "    f\"s3://{bucket}/output_data/\", output_data_path\n",
    "], check=True)\n",
    "\n",
    "print(f\"Files downloaded to: {output_data_path}\")\n",
    "\n"
   ]
  },
  {
   "cell_type": "markdown",
   "metadata": {},
   "source": [
    "Прочитаем результат"
   ]
  },
  {
   "cell_type": "code",
   "execution_count": 2,
   "metadata": {},
   "outputs": [
    {
     "name": "stdout",
     "output_type": "stream",
     "text": [
      "   result\n",
      "0       4\n"
     ]
    }
   ],
   "source": [
    "# df = spark.read.parquet(os.path.join(output_data_path, \"sum_data.parquet\"))\n",
    "# df.show()\n",
    "import pandas as pd\n",
    "import os\n",
    "import glob\n",
    "\n",
    "# Папка с parquet файлами\n",
    "parquet_dir = \"/Users/ypolonskaya/PyProjects/otus-practice-data-pipeline-hw5/data/output_data/sum_data.parquet\"\n",
    "\n",
    "# Получаем список всех part-файлов\n",
    "parquet_files = glob.glob(os.path.join(parquet_dir, \"*.parquet\"))\n",
    "\n",
    "# Читаем все файлы и объединяем в один DataFrame\n",
    "dfs = [pd.read_parquet(f) for f in parquet_files]\n",
    "df = pd.concat(dfs, ignore_index=True)\n",
    "\n",
    "print(df.head())\n"
   ]
  },
  {
   "cell_type": "code",
   "execution_count": null,
   "metadata": {},
   "outputs": [],
   "source": []
  }
 ],
 "metadata": {
  "kernelspec": {
   "display_name": "3.11.11",
   "language": "python",
   "name": "python3"
  },
  "language_info": {
   "codemirror_mode": {
    "name": "ipython",
    "version": 3
   },
   "file_extension": ".py",
   "mimetype": "text/x-python",
   "name": "python",
   "nbconvert_exporter": "python",
   "pygments_lexer": "ipython3",
   "version": "3.11.11"
  }
 },
 "nbformat": 4,
 "nbformat_minor": 2
}
